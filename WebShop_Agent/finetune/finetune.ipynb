{
 "cells": [
  {
   "cell_type": "code",
   "execution_count": 35,
   "metadata": {},
   "outputs": [],
   "source": [
    "from datasets import Dataset, load_dataset\n",
    "from transformers import AutoModelForCausalLM, AutoTokenizer, Trainer, TrainingArguments\n",
    "import os\n",
    "from trl import SFTTrainer\n",
    "from peft import LoraConfig, get_peft_model\n",
    "import torch\n",
    "from tqdm import tqdm\n",
    "import textwrap\n",
    "import torch\n",
    "import random\n",
    "import dotenv\n",
    "from __future__ import print_function, division\n",
    "from typing import List, Dict, Any, Optional, Callable, Tuple\n",
    "import re\n",
    "import sys\n",
    "import json\n",
    "import requests\n",
    "import argparse\n",
    "from pydantic import BaseModel\n",
    "from trl import SFTTrainer\n",
    "from transformers import TrainingArguments, DataCollatorForSeq2Seq\n",
    "from unsloth import is_bfloat16_supported\n",
    "from unsloth import FastLanguageModel\n",
    "from unsloth.chat_templates import get_chat_template\n",
    "from time import time"
   ]
  },
  {
   "cell_type": "code",
   "execution_count": null,
   "metadata": {},
   "outputs": [
    {
     "name": "stdout",
     "output_type": "stream",
     "text": [
      "==((====))==  Unsloth 2024.12.4: Fast Llama patching. Transformers:4.46.3.\n",
      "   \\\\   /|    GPU: NVIDIA A40. Max memory: 44.352 GB. Platform: Linux.\n",
      "O^O/ \\_/ \\    Torch: 2.5.1. CUDA: 8.6. CUDA Toolkit: 12.1. Triton: 3.1.0\n",
      "\\        /    Bfloat16 = TRUE. FA [Xformers = 0.0.28.post3. FA2 = False]\n",
      " \"-____-\"     Free Apache license: http://github.com/unslothai/unsloth\n",
      "Unsloth: Fast downloading is enabled - ignore downloading bars which are red colored!\n"
     ]
    },
    {
     "name": "stderr",
     "output_type": "stream",
     "text": [
      "Unsloth 2024.12.4 patched 32 layers with 32 QKV layers, 32 O layers and 32 MLP layers.\n"
     ]
    }
   ],
   "source": [
    "# Model loading\n",
    "\n",
    "max_seq_length = 2048 # Choose any. Unsloth support RoPE Scaling internally!\n",
    "dtype = None # None for auto detection. Float16 for Tesla T4, V100, Bfloat16 for Ampere+\n",
    "load_in_4bit = True # Use 4bit quantization to reduce memory usage. Can be False.\n",
    "\n",
    "model, tokenizer = FastLanguageModel.from_pretrained(\n",
    "    model_name = \"unsloth/Meta-Llama-3.1-8B-Instruct-bnb-4bit\",\n",
    "    max_seq_length = max_seq_length,\n",
    "    dtype = dtype,\n",
    "    load_in_4bit = load_in_4bit,\n",
    "    # token = \"hf_...\", # use one if using gated models like meta-llama/Llama-2-7b-hf\n",
    ")\n",
    "\n",
    "model = FastLanguageModel.get_peft_model(\n",
    "    model,\n",
    "    r = 32, # Choose any number > 0 ! Suggested 8, 16, 32, 64, 128\n",
    "    target_modules = [\"q_proj\", \"k_proj\", \"v_proj\", \"o_proj\",\n",
    "                      \"gate_proj\", \"up_proj\", \"down_proj\",],\n",
    "    lora_alpha = 16,\n",
    "    lora_dropout = 0, # Supports any, but = 0 is optimized\n",
    "    bias = \"none\",    # Supports any, but = \"none\" is optimized\n",
    "    # [NEW] \"unsloth\" uses 30% less VRAM, fits 2x larger batch sizes!\n",
    "    use_gradient_checkpointing = \"unsloth\", # True or \"unsloth\" for very long context\n",
    "    random_state = 3407,\n",
    "    use_rslora = False,  # We support rank stabilized LoRA\n",
    "    loftq_config = None, # And LoftQ\n",
    ")\n",
    "\n",
    "tokenizer = get_chat_template(\n",
    "    tokenizer,\n",
    "    chat_template = \"llama-3.1\",\n",
    ")"
   ]
  },
  {
   "cell_type": "code",
   "execution_count": 37,
   "metadata": {},
   "outputs": [],
   "source": [
    "# Data loading\n",
    "import json\n",
    "input_file_path = \"./train.json\"\n",
    "\n",
    "train_data = []\n",
    "with open(input_file_path, 'r') as file:\n",
    "  for line in file:\n",
    "    json_data = json.loads(line)\n",
    "    # print(json_data)\n",
    "    if json_data['success'] == True:\n",
    "      train_data.append(json_data)"
   ]
  },
  {
   "cell_type": "code",
   "execution_count": 38,
   "metadata": {},
   "outputs": [],
   "source": [
    "prompt = \"\"\"\n",
    "You are a shopping agent shopping in Webshop.\n",
    "\n",
    "The actions available to you are :\n",
    "- reset\n",
    "- think[Thought]\n",
    "- search[Search query]\n",
    "- click[Button to click]\n",
    "\n",
    "Rules:\n",
    "- You can reset from any page, think on any page.\n",
    "- You can only click buttons available on the page described in the observation. Buttons are defined between square brackets - []\n",
    "- You can only search from a page with [Search], so click on the back buttons to reach such a page before you search again.\n",
    "- You can ONLY reply with the action you want to take.\n",
    "- You must end after a few tries by attempting to buy something.\n",
    "\n",
    "Tips:\n",
    "- Carefully surf the webshop to fullfil requirements. \n",
    "- If any items match some of the requirements, click on them to see a detailed description and to see if they match all the requirements.  Quantity requirements can be met \n",
    "- Don't just give up on a search at the 1st page of results. Move through the result pages by pressing the [Next >] button. You may decide to give up at a reasonable point such as when the results are empty or too different from the requirements (usually 2-3 pages).\n",
    "\"\"\""
   ]
  },
  {
   "cell_type": "code",
   "execution_count": null,
   "metadata": {},
   "outputs": [
    {
     "data": {
      "text/plain": [
       "{'instruction': 'i want a noise cancelling cosycost usb microphone, and price lower than 60.00 dollars',\n",
       " 'score': 1.0,\n",
       " 'success': True,\n",
       " 'trajectory': 'WebShop \\nInstruction:  \\ni want a noise cancelling cosycost usb microphone, and price lower than 60.00 dollars \\n[Search] \\n> reset\\n\\nWebShop \\nInstruction:  \\ni want a noise cancelling cosycost usb microphone, and price lower than 60.00 dollars \\n[Search] \\n> search[noise cancelling cosycost usb microphone]\\n\\n[Back to Search] \\nPage 1 (Total results: 50) \\n[Next >] \\n[B0972Q1T8T] \\nCosycost USB Microphone,Condenser Computer PC Gaming Microphone for PS4/5 Laptop Windows Mac OS Android Phone,Noise Cancelling Instant Mute,Studio Mic for Voice,Music Recording,Podcasting,Streaming \\n$32.99 \\n[B072L2D6LY] \\nAndrea Communications NC-255VM USB On-Ear Stereo USB Computer Headset with Noise-Canceling Microphone, in-Line Volume/Mute Controls, and Plug \\n$34.59 \\n[B071H84LTJ] \\nAndrea Communications NC-455VM USB Over-Ear Circumaural Stereo USB Computer Headset with Noise-Canceling Microphone, in-Line Volume/Mute Controls, and Plug \\n$49.24 \\n> think[B0972Q1T8T is a noise cancelling cosycost usb microphone and is under 60 dollars. I can check it first.]  \\nOK.\\n> click[B0972Q1T8T]\\n\\n[Back to Search] \\n[< Prev] \\nCosycost USB Microphone,Condenser Computer PC Gaming Microphone for PS4/5 Laptop Windows Mac OS Android Phone,Noise Cancelling Instant Mute,Studio Mic for Voice,Music Recording,Podcasting,Streaming \\nPrice: $32.99 \\nRating: N.A. \\n[Description] \\n[Features] \\n[Reviews] \\n[Attributes] \\n[Buy Now] \\n> think[The item is a noise cancelling cosycost usb microphone and is priced at $32.99, which is under $60. It seems good to buy.]  \\nOK.\\n> click[Buy Now]',\n",
       " 'conversation': [{'role': 'user',\n",
       "   'content': 'WebShop\\nInstruction:\\ni want a noise cancelling cosycost usb microphone, and price lower than 60.00 dollars\\n[Search]'},\n",
       "  {'role': 'assistant', 'content': 'reset'},\n",
       "  {'role': 'user',\n",
       "   'content': 'WebShop\\nInstruction:\\ni want a noise cancelling cosycost usb microphone, and price lower than 60.00 dollars\\n[Search]'},\n",
       "  {'role': 'assistant',\n",
       "   'content': 'search[noise cancelling cosycost usb microphone]'},\n",
       "  {'role': 'user',\n",
       "   'content': '[Back to Search]\\nPage 1 (Total results: 50)\\n[Next >]\\n[B0972Q1T8T]\\nCosycost USB Microphone,Condenser Computer PC Gaming Microphone for PS4/5 Laptop Windows Mac OS Android Phone,Noise Cancelling Instant Mute,Studio Mic for Voice,Music Recording,Podcasting,Streaming\\n$32.99\\n[B072L2D6LY]\\nAndrea Communications NC-255VM USB On-Ear Stereo USB Computer Headset with Noise-Canceling Microphone, in-Line Volume/Mute Controls, and Plug\\n$34.59\\n[B071H84LTJ]\\nAndrea Communications NC-455VM USB Over-Ear Circumaural Stereo USB Computer Headset with Noise-Canceling Microphone, in-Line Volume/Mute Controls, and Plug\\n$49.24'},\n",
       "  {'role': 'assistant',\n",
       "   'content': 'think[B0972Q1T8T is a noise cancelling cosycost usb microphone and is under 60 dollars. I can check it first.]'},\n",
       "  {'role': 'user', 'content': 'OK.'},\n",
       "  {'role': 'assistant', 'content': 'click[B0972Q1T8T]'},\n",
       "  {'role': 'user',\n",
       "   'content': '[Back to Search]\\n[< Prev]\\nCosycost USB Microphone,Condenser Computer PC Gaming Microphone for PS4/5 Laptop Windows Mac OS Android Phone,Noise Cancelling Instant Mute,Studio Mic for Voice,Music Recording,Podcasting,Streaming\\nPrice: $32.99\\nRating: N.A.\\n[Description]\\n[Features]\\n[Reviews]\\n[Attributes]\\n[Buy Now]'},\n",
       "  {'role': 'assistant',\n",
       "   'content': 'think[The item is a noise cancelling cosycost usb microphone and is priced at $32.99, which is under $60. It seems good to buy.]'},\n",
       "  {'role': 'user', 'content': 'OK.'},\n",
       "  {'role': 'assistant', 'content': 'click[Buy Now]'}]}"
      ]
     },
     "execution_count": 39,
     "metadata": {},
     "output_type": "execute_result"
    }
   ],
   "source": [
    "train_data[0]"
   ]
  },
  {
   "cell_type": "code",
   "execution_count": 41,
   "metadata": {},
   "outputs": [],
   "source": [
    "def format_chat_template(row):\n",
    "    # input_text = prompt + row['instruction'] # concat prompt and requirement\n",
    "\n",
    "    conversation = []\n",
    "    row['conversation'][0]['content'] = f\"{prompt}\\n{row['conversation'][0]['content']}\"\n",
    "    conversation.extend(row['conversation'])\n",
    "\n",
    "    row[\"text\"] = tokenizer.apply_chat_template(conversation, tokenize=False, add_generation_prompt = False) # applies unsloth function to convert conversation to templated format\n",
    "  \n",
    "    return row\n",
    "\n",
    "processed_data = list(map(format_chat_template, train_data))\n",
    "train_dataset = Dataset.from_list(processed_data)"
   ]
  },
  {
   "cell_type": "code",
   "execution_count": 42,
   "metadata": {},
   "outputs": [
    {
     "data": {
      "text/plain": [
       "Dataset({\n",
       "    features: ['instruction', 'score', 'success', 'trajectory', 'conversation', 'text'],\n",
       "    num_rows: 1448\n",
       "})"
      ]
     },
     "execution_count": 42,
     "metadata": {},
     "output_type": "execute_result"
    }
   ],
   "source": [
    "train_dataset"
   ]
  },
  {
   "cell_type": "code",
   "execution_count": 43,
   "metadata": {},
   "outputs": [
    {
     "name": "stdout",
     "output_type": "stream",
     "text": [
      "<|begin_of_text|><|start_header_id|>system<|end_header_id|>\n",
      "\n",
      "Cutting Knowledge Date: December 2023\n",
      "Today Date: 26 July 2024\n",
      "\n",
      "<|eot_id|><|start_header_id|>user<|end_header_id|>\n",
      "\n",
      "\n",
      "You are a shopping agent shopping in Webshop.\n",
      "\n",
      "The actions available to you are :\n",
      "- reset\n",
      "- think[Thought]\n",
      "- search[Search query]\n",
      "- click[Button to click]\n",
      "\n",
      "Rules:\n",
      "- You can reset from any page, think on any page.\n",
      "- You can only click buttons available on the page described in the observation. Buttons are defined between square brackets - []\n",
      "- You can only search from a page with [Search], so click on the back buttons to reach such a page before you search again.\n",
      "- You can ONLY reply with the action you want to take.\n",
      "- You must end after a few tries by attempting to buy something.\n",
      "\n",
      "Tips:\n",
      "- Carefully surf the webshop to fullfil requirements. \n",
      "- If any items match some of the requirements, click on them to see a detailed description and to see if they match all the requirements.  Quantity requirements can be met \n",
      "- Don't just give up on a search at the 1st page of results. Move through the result pages by pressing the [Next >] button. You may decide to give up at a reasonable point such as when the results are empty or too different from the requirements (usually 2-3 pages).\n",
      "\n",
      "\n",
      "You are a shopping agent shopping in Webshop.\n",
      "\n",
      "The actions available to you are :\n",
      "- reset\n",
      "- think[Thought]\n",
      "- search[Search query]\n",
      "- click[Button to click]\n",
      "\n",
      "Rules:\n",
      "- You can reset from any page, think on any page.\n",
      "- You can only click buttons available on the page described in the observation. Buttons are defined between square brackets - []\n",
      "- You can only search from a page with [Search], so click on the back buttons to reach such a page before you search again.\n",
      "- You can ONLY reply with the action you want to take.\n",
      "- You must end after a few tries by attempting to buy something.\n",
      "\n",
      "Tips:\n",
      "- Carefully surf the webshop to fullfil requirements. \n",
      "- If any items match some of the requirements, click on them to see a detailed description and to see if they match all the requirements.  Quantity requirements can be met \n",
      "- Don't just give up on a search at the 1st page of results. Move through the result pages by pressing the [Next >] button. You may decide to give up at a reasonable point such as when the results are empty or too different from the requirements (usually 2-3 pages).\n",
      "\n",
      "WebShop\n",
      "Instruction:\n",
      "i want a noise cancelling cosycost usb microphone, and price lower than 60.00 dollars\n",
      "[Search]<|eot_id|><|start_header_id|>assistant<|end_header_id|>\n",
      "\n",
      "reset<|eot_id|><|start_header_id|>user<|end_header_id|>\n",
      "\n",
      "WebShop\n",
      "Instruction:\n",
      "i want a noise cancelling cosycost usb microphone, and price lower than 60.00 dollars\n",
      "[Search]<|eot_id|><|start_header_id|>assistant<|end_header_id|>\n",
      "\n",
      "search[noise cancelling cosycost usb microphone]<|eot_id|><|start_header_id|>user<|end_header_id|>\n",
      "\n",
      "[Back to Search]\n",
      "Page 1 (Total results: 50)\n",
      "[Next >]\n",
      "[B0972Q1T8T]\n",
      "Cosycost USB Microphone,Condenser Computer PC Gaming Microphone for PS4/5 Laptop Windows Mac OS Android Phone,Noise Cancelling Instant Mute,Studio Mic for Voice,Music Recording,Podcasting,Streaming\n",
      "$32.99\n",
      "[B072L2D6LY]\n",
      "Andrea Communications NC-255VM USB On-Ear Stereo USB Computer Headset with Noise-Canceling Microphone, in-Line Volume/Mute Controls, and Plug\n",
      "$34.59\n",
      "[B071H84LTJ]\n",
      "Andrea Communications NC-455VM USB Over-Ear Circumaural Stereo USB Computer Headset with Noise-Canceling Microphone, in-Line Volume/Mute Controls, and Plug\n",
      "$49.24<|eot_id|><|start_header_id|>assistant<|end_header_id|>\n",
      "\n",
      "think[B0972Q1T8T is a noise cancelling cosycost usb microphone and is under 60 dollars. I can check it first.]<|eot_id|><|start_header_id|>user<|end_header_id|>\n",
      "\n",
      "OK.<|eot_id|><|start_header_id|>assistant<|end_header_id|>\n",
      "\n",
      "click[B0972Q1T8T]<|eot_id|><|start_header_id|>user<|end_header_id|>\n",
      "\n",
      "[Back to Search]\n",
      "[< Prev]\n",
      "Cosycost USB Microphone,Condenser Computer PC Gaming Microphone for PS4/5 Laptop Windows Mac OS Android Phone,Noise Cancelling Instant Mute,Studio Mic for Voice,Music Recording,Podcasting,Streaming\n",
      "Price: $32.99\n",
      "Rating: N.A.\n",
      "[Description]\n",
      "[Features]\n",
      "[Reviews]\n",
      "[Attributes]\n",
      "[Buy Now]<|eot_id|><|start_header_id|>assistant<|end_header_id|>\n",
      "\n",
      "think[The item is a noise cancelling cosycost usb microphone and is priced at $32.99, which is under $60. It seems good to buy.]<|eot_id|><|start_header_id|>user<|end_header_id|>\n",
      "\n",
      "OK.<|eot_id|><|start_header_id|>assistant<|end_header_id|>\n",
      "\n",
      "click[Buy Now]<|eot_id|>\n"
     ]
    }
   ],
   "source": [
    "print(train_dataset[0][\"text\"])"
   ]
  },
  {
   "cell_type": "code",
   "execution_count": 44,
   "metadata": {},
   "outputs": [
    {
     "name": "stderr",
     "output_type": "stream",
     "text": [
      "Map (num_proc=4): 100%|██████████| 1448/1448 [00:02<00:00, 524.08 examples/s]\n",
      "Detected kernel version 5.4.0, which is below the recommended minimum of 5.5.0; this can cause the process to hang. It is recommended to upgrade the kernel to the minimum version or higher.\n"
     ]
    }
   ],
   "source": [
    "from unsloth import is_bfloat16_supported\n",
    "\n",
    "trainer = SFTTrainer(\n",
    "    model = model,\n",
    "    tokenizer = tokenizer,\n",
    "    train_dataset = train_dataset,\n",
    "    dataset_text_field = \"text\",\n",
    "    max_seq_length = max_seq_length,\n",
    "    data_collator = DataCollatorForSeq2Seq(tokenizer = tokenizer),\n",
    "    dataset_num_proc = 4,\n",
    "    packing = False, # Can make training 5x faster for short sequences.\n",
    "    args = TrainingArguments(\n",
    "        fp16 = not is_bfloat16_supported(),\n",
    "        bf16 = is_bfloat16_supported(),\n",
    "        per_device_train_batch_size = 16,\n",
    "        gradient_accumulation_steps = 2,\n",
    "        # warmup_steps = 5,\n",
    "        num_train_epochs = 5,\n",
    "        # eval_strategy = \"steps\",\n",
    "        # eval_steps = 100,\n",
    "        do_eval=False,\n",
    "        # max_steps = 60,\n",
    "        learning_rate = 1e-5,\n",
    "        logging_steps = 10,\n",
    "        optim = \"adamw_8bit\",\n",
    "        weight_decay = 0.01,\n",
    "        lr_scheduler_type = \"cosine\",\n",
    "        seed = 3407,\n",
    "        output_dir = \"output-llama3.18b\",\n",
    "        report_to = \"none\", # Use this for WandB etc\n",
    "    ),\n",
    ")"
   ]
  },
  {
   "cell_type": "code",
   "execution_count": 45,
   "metadata": {},
   "outputs": [
    {
     "name": "stderr",
     "output_type": "stream",
     "text": [
      "Map: 100%|██████████| 1448/1448 [00:01<00:00, 1255.03 examples/s]\n"
     ]
    }
   ],
   "source": [
    "from unsloth.chat_templates import train_on_responses_only\n",
    "trainer = train_on_responses_only(\n",
    "    trainer,\n",
    "    instruction_part = \"<|start_header_id|>user<|end_header_id|>\\n\\n\",\n",
    "    response_part = \"<|start_header_id|>assistant<|end_header_id|>\\n\\n\",\n",
    ")"
   ]
  },
  {
   "cell_type": "code",
   "execution_count": null,
   "metadata": {},
   "outputs": [
    {
     "name": "stderr",
     "output_type": "stream",
     "text": [
      "==((====))==  Unsloth - 2x faster free finetuning | Num GPUs = 1\n",
      "   \\\\   /|    Num examples = 1,448 | Num Epochs = 5\n",
      "O^O/ \\_/ \\    Batch size per device = 16 | Gradient Accumulation steps = 2\n",
      "\\        /    Total batch size = 32 | Total steps = 225\n",
      " \"-____-\"     Number of trainable parameters = 41,943,040\n"
     ]
    },
    {
     "data": {
      "text/html": [
       "\n",
       "    <div>\n",
       "      \n",
       "      <progress value='50' max='225' style='width:300px; height:20px; vertical-align: middle;'></progress>\n",
       "      [ 50/225 20:48 < 1:15:51, 0.04 it/s, Epoch 1.08/5]\n",
       "    </div>\n",
       "    <table border=\"1\" class=\"dataframe\">\n",
       "  <thead>\n",
       " <tr style=\"text-align: left;\">\n",
       "      <th>Step</th>\n",
       "      <th>Training Loss</th>\n",
       "    </tr>\n",
       "  </thead>\n",
       "  <tbody>\n",
       "    <tr>\n",
       "      <td>10</td>\n",
       "      <td>0.958100</td>\n",
       "    </tr>\n",
       "    <tr>\n",
       "      <td>20</td>\n",
       "      <td>0.829900</td>\n",
       "    </tr>\n",
       "    <tr>\n",
       "      <td>30</td>\n",
       "      <td>0.650600</td>\n",
       "    </tr>\n",
       "    <tr>\n",
       "      <td>40</td>\n",
       "      <td>0.483600</td>\n",
       "    </tr>\n",
       "  </tbody>\n",
       "</table><p>"
      ],
      "text/plain": [
       "<IPython.core.display.HTML object>"
      ]
     },
     "metadata": {},
     "output_type": "display_data"
    }
   ],
   "source": [
    "os.environ[\"CUDA_VISIBLE_DEVICES\"] = \"1,2\"\n",
    "trainer_stats = trainer.train()"
   ]
  },
  {
   "cell_type": "code",
   "execution_count": null,
   "metadata": {},
   "outputs": [],
   "source": [
    "model.save_pretrained_gguf(\"./outputs/run5/model\", tokenizer, quantization_method = \"quantized\")"
   ]
  }
 ],
 "metadata": {
  "kernelspec": {
   "display_name": "unsloth_env",
   "language": "python",
   "name": "python3"
  },
  "language_info": {
   "codemirror_mode": {
    "name": "ipython",
    "version": 3
   },
   "file_extension": ".py",
   "mimetype": "text/x-python",
   "name": "python",
   "nbconvert_exporter": "python",
   "pygments_lexer": "ipython3",
   "version": "3.11.9"
  }
 },
 "nbformat": 4,
 "nbformat_minor": 2
}
